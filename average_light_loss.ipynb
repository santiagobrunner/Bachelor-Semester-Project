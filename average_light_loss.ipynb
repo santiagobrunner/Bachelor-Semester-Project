{
 "cells": [
  {
   "cell_type": "code",
   "execution_count": 2,
   "metadata": {},
   "outputs": [],
   "source": [
    "import numpy as np\n",
    "import matplotlib.pyplot as plt"
   ]
  },
  {
   "cell_type": "code",
   "execution_count": 19,
   "metadata": {},
   "outputs": [],
   "source": [
    "AC_Data = np.loadtxt('AC4_Data.txt', delimiter=',')\n",
    "AC_Data_after = np.loadtxt('AC4_Data_with_resin.txt', delimiter=',')\n",
    "\n",
    "EJ_Data = np.loadtxt('EJ3_Data.txt', delimiter=',')\n",
    "EJ_Data_after = np.loadtxt('EJ3_Data_with_resin.txt', delimiter=',')\n",
    "OF_Data = np.loadtxt('OF3_Data.txt', delimiter=',')\n",
    "OF_Data_after = np.loadtxt('OF3_Data_with_resin.txt', delimiter=',')\n",
    "\n",
    "AC_MPVs = AC_Data[:,0]\n",
    "AC_gains = AC_Data[:,2]\n",
    "AC_PCs = (AC_MPVs - 50)/np.mean(AC_gains) # Frage: better use np.mean(AC_gains) ???\n",
    "\n",
    "AC_MPVs_after = AC_Data_after[:,0]\n",
    "AC_gains_after = AC_Data_after[:,2]\n",
    "AC_PCs_after = (AC_MPVs_after - 50)/np.mean(AC_gains_after) # Frage: better use np.mean(AC_gains) ???\n",
    "\n",
    "\n",
    "\n",
    "EJ_MPVs = EJ_Data[:,0]\n",
    "EJ_gains = EJ_Data[:,2]\n",
    "EJ_PCs = (EJ_MPVs - 50) / np.mean(EJ_gains)\n",
    "\n",
    "EJ_MPVs_after = EJ_Data_after[:,0]\n",
    "EJ_gains_after = EJ_Data_after[:,2]\n",
    "EJ_PCs_after = (EJ_MPVs_after - 50) / np.mean(EJ_gains_after)\n",
    "\n",
    "OF_MPVs = OF_Data[:,0]\n",
    "OF_gains = OF_Data[:,2]\n",
    "OF_PCs = (OF_MPVs - 50) / np.mean(OF_gains)\n",
    "\n",
    "OF_MPVs_after = OF_Data_after[:,0]\n",
    "OF_gains_after = OF_Data_after[:,2]\n",
    "OF_PCs_after = (OF_MPVs_after - 50) / np.mean(OF_gains_after)\n",
    "\n",
    "distance = np.arange(0,200,10) +2\n"
   ]
  },
  {
   "cell_type": "code",
   "execution_count": 22,
   "metadata": {},
   "outputs": [
    {
     "name": "stdout",
     "output_type": "stream",
     "text": [
      "0.9713151663306676 +/- 0.06513477400786534\n",
      "0.8604361407162059 +/- 0.09819569699646918\n",
      "0.6014594480047804 +/- 0.10544032304369251\n"
     ]
    }
   ],
   "source": [
    "# Calculating the avg. Light loss of each fiber \n",
    "# averaged for all distances\n",
    "\n",
    "#OF\n",
    "OF_avg = OF_PCs_after/OF_PCs\n",
    "print(np.mean(OF_avg[1:]), \"+/-\", np.std(OF_avg[1:]))\n",
    "\n",
    "# EJ\n",
    "EJ_avg = EJ_PCs_after/EJ_PCs\n",
    "print(np.mean(EJ_avg[1:]),\"+/-\", np.std(EJ_avg))\n",
    "\n",
    "# AC\n",
    "AC_avg = AC_PCs_after/AC_PCs\n",
    "print(np.mean(AC_avg), \"+/-\", np.std(AC_avg) )"
   ]
  },
  {
   "cell_type": "code",
   "execution_count": 23,
   "metadata": {},
   "outputs": [
    {
     "name": "stdout",
     "output_type": "stream",
     "text": [
      "0.8980619408083687 +/- 0.03551832854046581\n",
      "0.804404272622431 +/- 0.06147892396963127\n",
      "0.806975278006959 +/- 0.03134934907796831\n"
     ]
    }
   ],
   "source": [
    "# Short fibers\n",
    "PCs_before= np.loadtxt('PCs_samples_before_resin.txt')\n",
    "PCs_after = np.loadtxt('PCs_samples_after_resin.txt')\n",
    "\n",
    "\n",
    "NR = np.mean(PCs_after[0,:]) / np.mean(PCs_before[0,:])\n",
    "AC = np.mean(PCs_after[1,:]) / np.mean(PCs_before[1,:])\n",
    "EJ = np.mean(PCs_after[2,:]) / np.mean(PCs_before[2,:])\n",
    "OF = np.mean(PCs_after[3,:]) / np.mean(PCs_before[3,:])\n",
    "\n",
    "# ----- Error calculation -----\n",
    "# The error of the PhotonCount will be obtained from the standard deviation \n",
    "# of the multiple measurements\n",
    "# NR:\n",
    "sd_NR_b = np.std(PCs_before[0,:])\n",
    "sd_NR_a = np.std(PCs_after[0,:])\n",
    "sd_NR = np.mean(np.sqrt((sd_NR_b/PCs_before[0,:])**2 + (-sd_NR_a*PCs_after[0,:]/(PCs_before[0,:])**2)**2))\n",
    "# AC: \n",
    "sd_AC_b = np.std(PCs_before[1,:])\n",
    "sd_AC_a = np.std(PCs_after[1,:])\n",
    "sd_AC = np.mean(np.sqrt((sd_AC_b/PCs_before[1,:])**2 + (-sd_AC_a*PCs_after[1,:]/(PCs_before[1,:])**2)**2))\n",
    "# EJ:\n",
    "sd_EJ_b = np.std(PCs_before[2,:])\n",
    "sd_EJ_a = np.std(PCs_after[2,:])\n",
    "sd_EJ = np.mean(np.sqrt((sd_EJ_b/PCs_before[2,:])**2 + (-sd_EJ_a*PCs_after[2,:]/(PCs_before[2,:])**2)**2))\n",
    "# OF:\n",
    "sd_OF_b = np.std(PCs_before[3,:])\n",
    "sd_OF_a = np.std(PCs_after[3,:])\n",
    "sd_OF = np.mean(np.sqrt((sd_OF_b/PCs_before[3,:])**2 + (-sd_OF_a*PCs_after[3,:]/(PCs_before[3,:])**2)**2))\n",
    "# ------------------------------\n",
    "\n",
    "print(OF , \"+/-\", sd_OF)\n",
    "print(EJ, \"+/-\", sd_EJ)\n",
    "print(AC, \"+/-\", sd_AC)"
   ]
  },
  {
   "cell_type": "code",
   "execution_count": null,
   "metadata": {},
   "outputs": [],
   "source": []
  }
 ],
 "metadata": {
  "kernelspec": {
   "display_name": "Python 3",
   "language": "python",
   "name": "python3"
  },
  "language_info": {
   "codemirror_mode": {
    "name": "ipython",
    "version": 3
   },
   "file_extension": ".py",
   "mimetype": "text/x-python",
   "name": "python",
   "nbconvert_exporter": "python",
   "pygments_lexer": "ipython3",
   "version": "3.9.undefined"
  }
 },
 "nbformat": 4,
 "nbformat_minor": 2
}
